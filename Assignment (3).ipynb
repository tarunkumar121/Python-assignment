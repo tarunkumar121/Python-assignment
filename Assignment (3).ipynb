{
  "nbformat": 4,
  "nbformat_minor": 0,
  "metadata": {
    "colab": {
      "provenance": []
    },
    "kernelspec": {
      "name": "python3",
      "display_name": "Python 3"
    },
    "language_info": {
      "name": "python"
    }
  },
  "cells": [
    {
      "cell_type": "code",
      "execution_count": null,
      "metadata": {
        "id": "RhwTp6TwQRcl"
      },
      "outputs": [],
      "source": []
    },
    {
      "cell_type": "markdown",
      "source": [
        "Question 1.  What is Python, and why is it popular .\n",
        "\n",
        "\n",
        "         - Python\n",
        "   is programming language.\n",
        "   Python used to compute complex mathematical equations , create programs and mantaining data ,create games can be used as digital text notebook .\n",
        "\n",
        "         - Popular\n",
        "   Easy to learn and master.\n",
        "   It is very light because of not having  a GUI , so compatibility isn't an issue companies can use python without spending a lot on newer technology.\n",
        "   has wide vairety of libraries for every work such as Pandas  for data analyzing work and visualization and Numpy for small datasets and many more\n",
        "\n",
        "\n",
        "\n",
        "Question 2.  What is an interpreter in Python .\n",
        "\n",
        "\n",
        "          - Interpreter\n",
        "  Is  an important component .That is built in Python to execute\n",
        "  codes. It works an an translator that can translate high level python in a langugae for machine to understand and execute commands.\n",
        "\n",
        "\n",
        "Question 3. What are pre-defined keywords in Python .\n",
        "\n",
        "\n",
        "          - Pre-defined Keywords\n",
        "  They are special keywords that are reserved and can not be used like strings, variables and functions\n",
        "\n",
        "\n",
        "Question 4 . Can keywords be used as variable names.\n",
        "\n",
        "          - NO.\n",
        "\n",
        "Question 5. What is mutability in Python\n",
        "  \n",
        "          - Mutables are obejcts that can be modified after they are created.\n",
        "\n",
        "Question 6.  Why are lists mutable, but tuples are immutable\n",
        "\n",
        "          - Lists\n",
        "            are meant to be  mutable so you edit them later if required they put strain on memory.\n",
        "\n",
        "          - Tuples are fixed prefixed to save time unlike list tuples works    \n",
        "            faster.They are used to avoid any modification and preseve orginality.   \n",
        "\n",
        "Question 7. What is the difference between “==” and “is” operators in Python\n",
        "\n",
        "          - ==\n",
        "           is used when we compare  values\n",
        "\n",
        "          - 'is'\n",
        "           is used to identify memory values\n",
        "\n",
        "Question 8. What are logical operators in Python\n",
        "          \n",
        "          -  They are used to combine conditional statments and return   \n",
        "             True and False\n",
        "\n",
        "\n",
        "Question 9. What is type casting in Python\n",
        "        \n",
        "          - Type casting\n",
        "            process that converts one data type into another.\n",
        "\n",
        "            ex - 1/9= 0.111111----∞\n",
        "                but with float function i can get float value into int. form\n",
        "\n",
        "Question 10. What is the difference between implicit and explicit type    \n",
        "             casting   \n",
        "\n",
        "            -Implicit\n",
        "             function is automatic it converts dat without extra effort  \n",
        "\n",
        "             \n",
        "\n",
        "\n",
        "            -Explicit\n",
        "             it is manual function can that can convert implicit values into  float or strings\n",
        "\n",
        "\n",
        "\n",
        "\n",
        "\n",
        "Question 11.  What is the purpose of conditional statements in Python\n",
        "          \n",
        "             -Conditional statements\n",
        "             are used to satisfy particular condition\n",
        "              if, else ,elif etc are conditional types\n",
        "\n",
        "Question 12. How does the elif statement work\n",
        "\n",
        "            -Elif statement\n",
        "             as in the name else+if .It is used to test multiple conditions\n",
        "             in a statement without going through seprate statements\n",
        "\n",
        "Question 13. What is the difference between for and while loops\n",
        "            \n",
        "            -For loop\n",
        "             is used when when iteration is known\n",
        "             such as a list .\n",
        "\n",
        "\n",
        "            -While loops\n",
        "             is used when loops again and again unless stopped\n",
        "             good for countable constion that is required to repeat\n",
        "\n",
        "Question 14. Describe a scenario where a while loop is more suitable than a for loop             \n",
        "            \n",
        "            -while loops\n",
        "             can be used for surveys where questions are required to repeat\n",
        "\n",
        "\n",
        "\n",
        "\n",
        "      \n",
        "             "
      ],
      "metadata": {
        "id": "_As1q8JpQVTu"
      }
    },
    {
      "cell_type": "code",
      "source": [
        "#que1 Write a Python program to print \"Hello, World!\n",
        "\n",
        "print(\"Hello World!\")"
      ],
      "metadata": {
        "colab": {
          "base_uri": "https://localhost:8080/"
        },
        "id": "DoTPc2Qrw9i8",
        "outputId": "fbaf3898-bed3-4a1c-8f03-a45d12b90289"
      },
      "execution_count": 38,
      "outputs": [
        {
          "output_type": "stream",
          "name": "stdout",
          "text": [
            "Hello World!\n"
          ]
        }
      ]
    },
    {
      "cell_type": "markdown",
      "source": [],
      "metadata": {
        "id": "RyZW5XOBwv2T"
      }
    },
    {
      "cell_type": "code",
      "source": [
        "#que2 Write a Python program that displays your name and age\n",
        "\n",
        "Name= \"Tarun\"\n",
        "Age = 26"
      ],
      "metadata": {
        "id": "iD68UOgyxhxZ"
      },
      "execution_count": 7,
      "outputs": []
    },
    {
      "cell_type": "code",
      "source": [
        "#que3 Write code to print all the pre-defined keywords in Python using the keyword library\n",
        "\n",
        "help(\"keywords\")"
      ],
      "metadata": {
        "colab": {
          "base_uri": "https://localhost:8080/"
        },
        "id": "Lhq_7-bNx1lP",
        "outputId": "625c70cf-a76f-499d-9683-07a9d905f584"
      },
      "execution_count": 39,
      "outputs": [
        {
          "output_type": "stream",
          "name": "stdout",
          "text": [
            "\n",
            "Here is a list of the Python keywords.  Enter any keyword to get more help.\n",
            "\n",
            "False               class               from                or\n",
            "None                continue            global              pass\n",
            "True                def                 if                  raise\n",
            "and                 del                 import              return\n",
            "as                  elif                in                  try\n",
            "assert              else                is                  while\n",
            "async               except              lambda              with\n",
            "await               finally             nonlocal            yield\n",
            "break               for                 not                 \n",
            "\n"
          ]
        }
      ]
    },
    {
      "cell_type": "code",
      "source": [
        "#que4 Write a program that checks if a given word is a Python keyword\n",
        "\n",
        "f = \"for\"\n",
        "\n",
        "print(f\"'{f}' is a Python keyword.\")"
      ],
      "metadata": {
        "colab": {
          "base_uri": "https://localhost:8080/"
        },
        "id": "tztp-c36z-P-",
        "outputId": "2d1b7098-24a7-4910-b68f-eaec1cb05475"
      },
      "execution_count": 40,
      "outputs": [
        {
          "output_type": "stream",
          "name": "stdout",
          "text": [
            "'for' is a Python keyword.\n"
          ]
        }
      ]
    },
    {
      "cell_type": "code",
      "source": [
        "#que5 Create a list and tuple in Python, and demonstrate how attempting to change an element works differently\n",
        "for each\n",
        "\n",
        "\n",
        "numbers = [1,2,3,4,5,6,7]\n",
        "print(numbers)\n",
        "#can be edited"
      ],
      "metadata": {
        "colab": {
          "base_uri": "https://localhost:8080/"
        },
        "id": "XE6bRDnj0Ixr",
        "outputId": "a986d62c-cbc2-4c65-fabe-00ac898b60d7"
      },
      "execution_count": 41,
      "outputs": [
        {
          "output_type": "stream",
          "name": "stdout",
          "text": [
            "[1, 2, 3, 4, 5, 6, 7]\n"
          ]
        }
      ]
    },
    {
      "cell_type": "code",
      "source": [
        "#que6 part 1 Write a function to demonstrate the behavior of mutable and immutable arguments\n",
        "\n",
        "my_tuple =(1,2,3,4,5)\n",
        "print(my_tuple)\n",
        "#can not be edited"
      ],
      "metadata": {
        "colab": {
          "base_uri": "https://localhost:8080/"
        },
        "id": "HCRa6Fo50emz",
        "outputId": "e2fdee22-acb1-45d4-8ad7-554eae32479b"
      },
      "execution_count": 42,
      "outputs": [
        {
          "output_type": "stream",
          "name": "stdout",
          "text": [
            "(1, 2, 3, 4, 5)\n"
          ]
        }
      ]
    },
    {
      "cell_type": "code",
      "source": [
        "#que7 Write a program that performs basic arithmetic operations on two user-input numbers\n",
        "\n",
        "Age + 1"
      ],
      "metadata": {
        "colab": {
          "base_uri": "https://localhost:8080/"
        },
        "id": "3ihIbuaq2_8x",
        "outputId": "cfcf0b7a-b777-4d44-aefa-7beef6db4679"
      },
      "execution_count": 43,
      "outputs": [
        {
          "output_type": "execute_result",
          "data": {
            "text/plain": [
              "27"
            ]
          },
          "metadata": {},
          "execution_count": 43
        }
      ]
    },
    {
      "cell_type": "code",
      "source": [
        "#que8 Write a program to demonstrate the use of logical operators\n",
        "\n",
        "5>2"
      ],
      "metadata": {
        "colab": {
          "base_uri": "https://localhost:8080/"
        },
        "id": "bi1Ya-l-3XsA",
        "outputId": "17c54945-c9c3-48bd-d389-f83ae40abfb8"
      },
      "execution_count": 44,
      "outputs": [
        {
          "output_type": "execute_result",
          "data": {
            "text/plain": [
              "True"
            ]
          },
          "metadata": {},
          "execution_count": 44
        }
      ]
    },
    {
      "cell_type": "code",
      "source": [
        "#que9 Write a Python program to convert user input from string to integer, float, and boolean types\n",
        "\n",
        "num = 7.9\n",
        "int_num = int(num)  # Converts 7.9 to 7\n",
        "print(int_num)"
      ],
      "metadata": {
        "colab": {
          "base_uri": "https://localhost:8080/"
        },
        "id": "p4WvzWkB4nIS",
        "outputId": "88f6bc1f-771b-442b-b531-fa3d4b09998c"
      },
      "execution_count": 53,
      "outputs": [
        {
          "output_type": "stream",
          "name": "stdout",
          "text": [
            "7\n"
          ]
        }
      ]
    },
    {
      "cell_type": "code",
      "source": [
        "#que10 Write a Python program to find the sum of all even numbers between 1 and 50"
      ],
      "metadata": {
        "id": "7r3JQVyv4vkK"
      },
      "execution_count": 71,
      "outputs": []
    },
    {
      "cell_type": "code",
      "source": [
        "sum_of_evens = 0\n",
        "for num in range(1,51):\n",
        "    if num % 2 ==0:\n",
        "        sum_of_evens += num\n",
        "print(sum_of_evens)"
      ],
      "metadata": {
        "colab": {
          "base_uri": "https://localhost:8080/"
        },
        "id": "Ztc6HydN8HeQ",
        "outputId": "e8e8591e-0206-41fa-d0fa-d1d8e6ff579f"
      },
      "execution_count": 8,
      "outputs": [
        {
          "output_type": "stream",
          "name": "stdout",
          "text": [
            "650\n"
          ]
        }
      ]
    },
    {
      "cell_type": "code",
      "source": [
        "#que11 Write a program that checks if a number is positive, negative, or zero\n",
        "\n",
        "num = int(input(\"Enter a number: \"))\n",
        "\n",
        "if num > 0:\n",
        "    print(\"The number is positive.\")\n",
        "elif num < 0:\n",
        "    print(\"The number is negative.\")\n",
        "else:\n",
        "    print(\"The number is zero.\")"
      ],
      "metadata": {
        "colab": {
          "base_uri": "https://localhost:8080/"
        },
        "id": "6-cCJ1L_-PjU",
        "outputId": "91baaa7b-5697-4e25-a5eb-9f59a9f278c9"
      },
      "execution_count": 72,
      "outputs": [
        {
          "output_type": "stream",
          "name": "stdout",
          "text": [
            "Enter a number: 26\n",
            "The number is positive.\n"
          ]
        }
      ]
    },
    {
      "cell_type": "code",
      "source": [
        "#que12  Write a for loop to print numbers from 1 to 10\n",
        "\n",
        "for num in range(1,11):\n",
        "  print(num)"
      ],
      "metadata": {
        "colab": {
          "base_uri": "https://localhost:8080/"
        },
        "id": "BC8G5ZZK-1g2",
        "outputId": "4f83c7b9-29a9-45ea-e7e9-5ffdcb191ddd"
      },
      "execution_count": 73,
      "outputs": [
        {
          "output_type": "stream",
          "name": "stdout",
          "text": [
            "1\n",
            "2\n",
            "3\n",
            "4\n",
            "5\n",
            "6\n",
            "7\n",
            "8\n",
            "9\n",
            "10\n"
          ]
        }
      ]
    },
    {
      "cell_type": "code",
      "source": [
        "#que13 Write a Python program to find the sum of all even numbers between 1 and 50\n",
        "\n",
        "sum_of_evens = 0\n",
        "for num in range(1,51):\n",
        "    if num % 2 ==0:\n",
        "        sum_of_evens += num\n",
        "print(sum_of_evens)\n"
      ],
      "metadata": {
        "colab": {
          "base_uri": "https://localhost:8080/"
        },
        "id": "SjHN6t_5_PN9",
        "outputId": "02d47bb1-9b03-42ea-937f-3af664febed4"
      },
      "execution_count": 7,
      "outputs": [
        {
          "output_type": "stream",
          "name": "stdout",
          "text": [
            "650\n"
          ]
        }
      ]
    },
    {
      "cell_type": "code",
      "source": [],
      "metadata": {
        "id": "3u8rdDndkhYn"
      },
      "execution_count": null,
      "outputs": []
    }
  ]
}